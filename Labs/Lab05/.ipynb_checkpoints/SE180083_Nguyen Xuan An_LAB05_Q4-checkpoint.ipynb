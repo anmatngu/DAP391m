{
 "cells": [
  {
   "cell_type": "code",
   "execution_count": null,
   "metadata": {},
   "outputs": [],
   "source": []
  },
  {
   "cell_type": "code",
   "execution_count": 121,
   "metadata": {},
   "outputs": [
    {
     "name": "stderr",
     "output_type": "stream",
     "text": [
      "C:\\Users\\nguye\\AppData\\Local\\Temp\\ipykernel_20332\\316079533.py:11: FutureWarning:\n",
      "\n",
      "Passing literal html to 'read_html' is deprecated and will be removed in a future version. To read from a literal string, wrap it in a 'StringIO' object.\n",
      "\n"
     ]
    }
   ],
   "source": [
    "from bs4 import BeautifulSoup\n",
    "import pandas as pd\n",
    "import requests\n",
    "from io import StringIO\n",
    "\n",
    "url = 'https://en.wikipedia.org/wiki/Demographics_of_Russia'\n",
    "response = requests.get(url)\n",
    "html_content = response.text\n",
    "\n",
    "soup = BeautifulSoup(response.text, 'html.parser')\n",
    "tables = pd.read_html(response.text)\n",
    "\n",
    "# data = StringIO(html_content)\n",
    "\n",
    "# tables = pd.read_html(data)"
   ]
  },
  {
   "cell_type": "code",
   "execution_count": 122,
   "metadata": {},
   "outputs": [],
   "source": [
    "df_beforeww2 = tables[10]\n",
    "df_afterww2 = tables[11]"
   ]
  },
  {
   "cell_type": "code",
   "execution_count": 123,
   "metadata": {},
   "outputs": [],
   "source": [
    "df_beforeww2 = df_beforeww2.rename(columns={'Unnamed: 0': \"Year\", \n",
    "                                \"Average population[35]\": \"Average population\"})"
   ]
  },
  {
   "cell_type": "code",
   "execution_count": 124,
   "metadata": {},
   "outputs": [],
   "source": [
    "df_afterww2 = df_afterww2.rename(columns={'Unnamed: 0': \"Year\",\n",
    "    \"Total average population (January 1 1993 onwards)\" : \"Average population\",\n",
    "    })"
   ]
  },
  {
   "cell_type": "markdown",
   "metadata": {},
   "source": [
    "# Visualize"
   ]
  },
  {
   "cell_type": "code",
   "execution_count": 125,
   "metadata": {},
   "outputs": [],
   "source": [
    "import dash\n",
    "from dash import dcc, html\n",
    "import plotly.express as px"
   ]
  },
  {
   "cell_type": "code",
   "execution_count": 16,
   "metadata": {},
   "outputs": [],
   "source": [
    "fig_population_beforeww2 = px.line(df_beforeww2, x='Year', y='Average population',\n",
    "                        title='Population of Russia before World War 2')\n",
    "\n",
    "fig_population_afterww2 = px.line(df_afterww2, x='Year', y='Average population',\n",
    "                        title='Population of Russia before World War 2')\n",
    "\n",
    "\n",
    "app = dash.Dash(__name__)\n",
    "\n",
    "app.layout = html.Div(children=[\n",
    "    html.H1(children='Russia Population Visualization', style={'font-family': 'Montserrat, Arial, sans-serif'}),\n",
    "\n",
    "    html.Div(children=[\n",
    "        dcc.Graph(\n",
    "            id='population-before-ww2',\n",
    "            figure=fig_population_beforeww2\n",
    "        )\n",
    "    ]),\n",
    "    \n",
    "    html.Div(children=[\n",
    "        dcc.Graph(\n",
    "            id='population-after-ww2',\n",
    "            figure=fig_population_afterww2\n",
    "        )\n",
    "    ])\n",
    "])"
   ]
  },
  {
   "cell_type": "code",
   "execution_count": 17,
   "metadata": {},
   "outputs": [
    {
     "data": {
      "text/html": [
       "\n",
       "        <iframe\n",
       "            width=\"100%\"\n",
       "            height=\"650\"\n",
       "            src=\"http://127.0.0.1:8854/\"\n",
       "            frameborder=\"0\"\n",
       "            allowfullscreen\n",
       "            \n",
       "        ></iframe>\n",
       "        "
      ],
      "text/plain": [
       "<IPython.lib.display.IFrame at 0x224aa6e9a50>"
      ]
     },
     "metadata": {},
     "output_type": "display_data"
    }
   ],
   "source": [
    "app.run(mode='jupyterlab', port='8854')"
   ]
  },
  {
   "cell_type": "code",
   "execution_count": null,
   "metadata": {},
   "outputs": [],
   "source": []
  }
 ],
 "metadata": {
  "kernelspec": {
   "display_name": "Python 3 (ipykernel)",
   "language": "python",
   "name": "python3"
  },
  "language_info": {
   "codemirror_mode": {
    "name": "ipython",
    "version": 3
   },
   "file_extension": ".py",
   "mimetype": "text/x-python",
   "name": "python",
   "nbconvert_exporter": "python",
   "pygments_lexer": "ipython3",
   "version": "3.11.7"
  }
 },
 "nbformat": 4,
 "nbformat_minor": 2
}
